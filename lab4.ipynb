{
 "cells": [
  {
   "attachments": {},
   "cell_type": "markdown",
   "metadata": {},
   "source": [
    "### Task 1.1\n",
    "Leer el archivo y guardarlo en un np array"
   ]
  },
  {
   "cell_type": "code",
   "execution_count": 91,
   "metadata": {},
   "outputs": [
    {
     "name": "stdout",
     "output_type": "stream",
     "text": [
      "[[  0.  46.   2. ...  95.  76.   0.]\n",
      " [  1.  48.   1. ...  75.  70.   0.]\n",
      " [  0.  61.   3. ...  65. 103.   1.]\n",
      " ...\n",
      " [  0.  48.   2. ...  84.  86.   0.]\n",
      " [  0.  44.   1. ...  86.  nan   0.]\n",
      " [  0.  52.   2. ...  80. 107.   0.]]\n"
     ]
    }
   ],
   "source": [
    "import pandas as pd\n",
    "import numpy as np\n",
    "from matplotlib import pyplot as plt\n",
    "\n",
    "# leer el archivo CSV\n",
    "datos = pd.read_csv('framingham.csv')\n",
    "# eliminar los encabezados\n",
    "datos_sin_encabezados = datos.values[1:]\n",
    "\n",
    "# convertir los datos a un array numpy\n",
    "datos_np = np.array(datos_sin_encabezados, dtype=float)\n",
    "\n",
    "print(datos_np)"
   ]
  },
  {
   "attachments": {},
   "cell_type": "markdown",
   "metadata": {},
   "source": [
    "# Task 1.2\n",
    "Ajustar un modelo de regresion logistica"
   ]
  },
  {
   "cell_type": "code",
   "execution_count": 92,
   "metadata": {},
   "outputs": [
    {
     "name": "stdout",
     "output_type": "stream",
     "text": [
      "[[ 0. 46.]\n",
      " [ 1. 48.]\n",
      " [ 1. 61.]\n",
      " ...\n",
      " [ 1. 48.]\n",
      " [ 1. 44.]\n",
      " [ 0. 52.]]\n",
      "[0. 0. 1. ... 0. 0. 0.]\n"
     ]
    }
   ],
   "source": [
    "# adjuntar las propiedades en X\n",
    "# Fuma o no.\n",
    "# Edad\n",
    "fuma = datos_np[:,3]\n",
    "edad = datos_np[:,1]\n",
    "\n",
    "# Convertir las columnas en un np.array de dos dimensiones\n",
    "X = np.column_stack((fuma, edad))\n",
    "\n",
    "# eliminar datos faltantes\n",
    "from sklearn.impute import SimpleImputer\n",
    "imp = SimpleImputer(strategy=\"mean\")\n",
    "X = imp.fit_transform(X)\n",
    "\n",
    "print(X)\n",
    "\n",
    "# sufrió un paro cardíaco.\n",
    "y = datos_np[:,-1]\n",
    "print(y)"
   ]
  },
  {
   "attachments": {},
   "cell_type": "markdown",
   "metadata": {},
   "source": [
    "### Task 1.3\n",
    "Utilizar el algoritmo del gradiente con implementaciond e regresion logistica"
   ]
  },
  {
   "cell_type": "code",
   "execution_count": 96,
   "metadata": {},
   "outputs": [
    {
     "name": "stdout",
     "output_type": "stream",
     "text": [
      "[[ 1.  0. 40.]\n",
      " [ 1.  0. 10.]\n",
      " [ 1.  1.  5.]] [-0.00083153 -0.00041226 -0.03137567]\n",
      "Predicciones -  [0.22168767 0.4219952  0.46055162]\n",
      "0.45479012988703343\n"
     ]
    },
    {
     "data": {
      "image/png": "[encoded data removed]",
      "text/plain": [
       "<Figure size 640x480 with 1 Axes>"
      ]
     },
     "metadata": {},
     "output_type": "display_data"
    }
   ],
   "source": [
    "from logistic_reg import *\n",
    "\n",
    "def logistic_regrresion(X, y, learning_rate, threshold, max_iter, lmbd):\n",
    "    # Agregar columna de unos para el término independiente\n",
    "    X = np.c_[np.ones(X.shape[0]), X]\n",
    "\n",
    "    # Inicialización de parámetros\n",
    "    n_features = X.shape[1]\n",
    "    theta_initial = np.zeros(n_features)\n",
    "\n",
    "    # Ejecución del algoritmo de descenso de gradiente\n",
    "    theta, costs, _ = gradient_descent(\n",
    "        theta_initial,\n",
    "        logistic_cost,\n",
    "        logistic_cost_gradient,\n",
    "        learning_rate=learning_rate,\n",
    "        threshold=threshold,\n",
    "        max_iter=max_iter,\n",
    "        params=[X, y, lmbd]\n",
    "    )\n",
    "\n",
    "    # Retornar los parámetros aprendidos y el historial de costos\n",
    "    return theta, costs\n",
    "\n",
    "lmbd = 0.1\n",
    "learning_rate = 0.000001\n",
    "theta_initial = np.zeros(X.shape[1])\n",
    "max_iterations = 10000\n",
    "\n",
    "theta, costs = logistic_regrresion(\n",
    "    X,\n",
    "    y,\n",
    "    learning_rate,\n",
    "    0.001,\n",
    "    max_iterations,\n",
    "    lmbd\n",
    ")\n",
    "\n",
    "# Realizar predicciones\n",
    "# datos de prueba\n",
    "X_test = np.array([[0, 40], [0, 10], [1, 5]])\n",
    "X_test = np.hstack((np.ones((X_test.shape[0], 1)), X_test))\n",
    "\n",
    "print(X_test, theta)\n",
    "predictions = sigmoid(X_test @ theta)\n",
    "\n",
    "print(\"Predicciones - \", predictions)\n",
    "# Costos\n",
    "plt.plot(costs, color=\"blue\")\n",
    "print(costs[-1])\n",
    "plt.show()"
   ]
  },
  {
   "attachments": {},
   "cell_type": "markdown",
   "metadata": {},
   "source": [
    "### Cross validation"
   ]
  },
  {
   "cell_type": "code",
   "execution_count": 110,
   "metadata": {},
   "outputs": [
    {
     "name": "stdout",
     "output_type": "stream",
     "text": [
      "[[ 0. 51.]\n",
      " [ 1. 51.]\n",
      " [ 1. 43.]\n",
      " ...\n",
      " [ 0. 56.]\n",
      " [ 1. 44.]\n",
      " [ 1. 36.]]\n",
      "[0. 0. 0. ... 0. 0. 0.]\n",
      "Teta reultante de entreno: \n",
      "[-0.00052724 -0.00052724 -0.00052724 -0.00030699 -0.0005723 ]\n",
      "0.48575322841922164\n"
     ]
    },
    {
     "data": {
      "image/png": "[encoded data removed]",
      "text/plain": [
       "<Figure size 640x480 with 1 Axes>"
      ]
     },
     "metadata": {},
     "output_type": "display_data"
    }
   ],
   "source": [
    "data = np.genfromtxt(\"framingham.csv\", delimiter=\",\", skip_header=1, dtype=float)\n",
    "\n",
    "#Desordenar los datos\n",
    "np.random.shuffle(data)\n",
    "cross_val_set = data.shape[0] // 3\n",
    "\n",
    "# Dividimos \n",
    "test = data[:cross_val_set]\n",
    "training = data[cross_val_set:]\n",
    "\n",
    "# fuma\n",
    "# Edad\n",
    "fuma = training[:,3]\n",
    "edad = training[:,1]\n",
    "\n",
    "# Convertir las columnas en un np.array de dos dimensiones\n",
    "X = np.column_stack((fuma, edad))\n",
    "\n",
    "# eliminar datos faltantes\n",
    "from sklearn.impute import SimpleImputer\n",
    "imp = SimpleImputer(strategy=\"mean\")\n",
    "X = imp.fit_transform(X)\n",
    "\n",
    "print(X)\n",
    "\n",
    "# sufrió un paro cardíaco.\n",
    "y = training[:,-1]\n",
    "print(y)\n",
    "\n",
    "# aumentar el polinomio a grado 2\n",
    "X_train_poly = np.power(X, 2)\n",
    "X_train_poly = np.column_stack((np.ones_like(X), X_train_poly))\n",
    "\n",
    "learning_rate = 0.000001\n",
    "theta, costs = logistic_regrresion(\n",
    "    X_train_poly,\n",
    "    y,\n",
    "    learning_rate,\n",
    "    0.001,\n",
    "    max_iterations,\n",
    "    lmbd\n",
    ")\n",
    "\n",
    "# Realizar predicciones\n",
    "# datos de prueba\n",
    "print(\"Teta reultante de entreno: \")\n",
    "print(theta)\n",
    "\n",
    "# Costos\n",
    "plt.plot(costs, color=\"blue\")\n",
    "print(costs[-1])\n",
    "plt.show()"
   ]
  },
  {
   "cell_type": "code",
   "execution_count": 111,
   "metadata": {},
   "outputs": [
    {
     "name": "stdout",
     "output_type": "stream",
     "text": [
      "[[ 0. 59.]\n",
      " [ 0. 55.]\n",
      " [ 0. 42.]\n",
      " ...\n",
      " [ 1. 62.]\n",
      " [ 0. 46.]\n",
      " [ 0. 62.]]\n",
      "[1. 0. 1. ... 0. 0. 0.]\n"
     ]
    },
    {
     "name": "stderr",
     "output_type": "stream",
     "text": [
      "c:\\Users\\Mark\\Documents\\Universidad\\IA\\lab4\\logistic_reg.py:5: RuntimeWarning: overflow encountered in exp\n",
      "  \"\"\"Función sigmoide\"\"\"\n",
      "c:\\Users\\Mark\\Documents\\Universidad\\IA\\lab4\\logistic_reg.py:11: RuntimeWarning: divide by zero encountered in log\n",
      "  reg = (lmbd / (2 * len(X))) * (theta[1:] ** 2).sum()\n",
      "c:\\Users\\Mark\\Documents\\Universidad\\IA\\lab4\\logistic_reg.py:11: RuntimeWarning: invalid value encountered in multiply\n",
      "  reg = (lmbd / (2 * len(X))) * (theta[1:] ** 2).sum()\n"
     ]
    },
    {
     "name": "stdout",
     "output_type": "stream",
     "text": [
      "Teta reultante de entreno: \n",
      "[-0.00046881 -0.00046881 -0.00046881 -0.00017031 -0.03171026]\n",
      "nan\n"
     ]
    },
    {
     "data": {
      "image/png": "[encoded data removed]",
      "text/plain": [
       "<Figure size 640x480 with 1 Axes>"
      ]
     },
     "metadata": {},
     "output_type": "display_data"
    }
   ],
   "source": [
    "data = np.genfromtxt(\"framingham.csv\", delimiter=\",\", skip_header=1, dtype=float)\n",
    "\n",
    "#Desordenar los datos\n",
    "np.random.shuffle(data)\n",
    "cross_val_set = data.shape[0] // 3\n",
    "\n",
    "# Dividimos \n",
    "test = data[:cross_val_set]\n",
    "training = data[cross_val_set:]\n",
    "\n",
    "# fuma\n",
    "# Edad\n",
    "fuma = test[:,3]\n",
    "edad = test[:,1]\n",
    "\n",
    "# Convertir las columnas en un np.array de dos dimensiones\n",
    "X = np.column_stack((fuma, edad))\n",
    "\n",
    "# eliminar datos faltantes\n",
    "from sklearn.impute import SimpleImputer\n",
    "imp = SimpleImputer(strategy=\"mean\")\n",
    "X = imp.fit_transform(X)\n",
    "\n",
    "print(X)\n",
    "\n",
    "# sufrió un paro cardíaco.\n",
    "y = test[:,-1]\n",
    "print(y)\n",
    "\n",
    "# aumentar el polinomio a grado 4\n",
    "X_train_poly = np.power(X, 4)\n",
    "X_train_poly = np.column_stack((np.ones_like(X), X_train_poly))\n",
    "\n",
    "learning_rate = 0.000001\n",
    "theta, costs = logistic_regrresion(\n",
    "    X_train_poly,\n",
    "    y,\n",
    "    learning_rate,\n",
    "    0.001,\n",
    "    max_iterations,\n",
    "    lmbd\n",
    ")\n",
    "\n",
    "# Realizar predicciones\n",
    "# datos de prueba\n",
    "print(\"Teta reultante de entreno: \")\n",
    "print(theta)\n",
    "\n",
    "# Costos\n",
    "plt.plot(costs, color=\"blue\")\n",
    "print(costs[-1])\n",
    "plt.show()"
   ]
  },
  {
   "attachments": {},
   "cell_type": "markdown",
   "metadata": {},
   "source": [
    "### Task 1.5\n",
    "\n",
    "Podemos ver que con un polinomio grado 4 obtenemos resultados completamente fuera de lugar, un polinomio adecuado podría ser k = 2 o k = 1, vemos que tiene un mejor rendimiento. Con un polinomio grado k = 4 en adelante obtenemos una gráfica de costos incorrecta y nos avis aque nuestro modelo no se ajusta. Considero que esto se debe a las features de nuestra variable X debido a que al recibir varios datos no termina de ajustarse al modelo. Para mejorar el rendimiento considero elegir un buen número específico de features para realizar predicciones."
   ]
  }
 ],
 "metadata": {
  "kernelspec": {
   "display_name": "Python 3",
   "language": "python",
   "name": "python3"
  },
  "language_info": {
   "codemirror_mode": {
    "name": "ipython",
    "version": 3
   },
   "file_extension": ".py",
   "mimetype": "text/x-python",
   "name": "python",
   "nbconvert_exporter": "python",
   "pygments_lexer": "ipython3",
   "version": "3.9.13"
  },
  "orig_nbformat": 4
 },
 "nbformat": 4,
 "nbformat_minor": 2
}
